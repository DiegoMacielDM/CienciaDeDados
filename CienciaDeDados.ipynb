{
  "nbformat": 4,
  "nbformat_minor": 0,
  "metadata": {
    "colab": {
      "name": "CienciaDeDados",
      "provenance": [],
      "collapsed_sections": [],
      "toc_visible": true,
      "include_colab_link": true
    },
    "kernelspec": {
      "display_name": "Python 3",
      "name": "python3"
    }
  },
  "cells": [
    {
      "cell_type": "markdown",
      "metadata": {
        "id": "view-in-github",
        "colab_type": "text"
      },
      "source": [
        "<a href=\"https://colab.research.google.com/github/DiegoMacielDM/CienciaDeDados/blob/main/CienciaDeDados.ipynb\" target=\"_parent\"><img src=\"https://colab.research.google.com/assets/colab-badge.svg\" alt=\"Open In Colab\"/></a>"
      ]
    },
    {
      "cell_type": "code",
      "metadata": {
        "id": "yxN4NDEYrf7o"
      },
      "source": [
        "#Importando a biblioteca pandas do Python\n",
        "import pandas as pd"
      ],
      "execution_count": null,
      "outputs": []
    },
    {
      "cell_type": "code",
      "metadata": {
        "colab": {
          "base_uri": "https://localhost:8080/",
          "height": 328
        },
        "id": "1uQPRtrgrnyP",
        "outputId": "ed9919f7-3d18-4f4f-aca3-35768b8baa01"
      },
      "source": [
        "#Criando um DataFrame\n",
        "dados = {\n",
        "    'nome':['Diego','Mirtes','Amanda','Eva','Katia', 'Tico', 'Deivison','Thesly', 'Miriam'],\n",
        "    'idade':[34,30,8,14,56,12,57, 0, 0],\n",
        "    'Sexo':['m','f','f','f','f','m','m','','']\n",
        "}\n",
        "#Criando o DataFrame\n",
        "df = pd.DataFrame(dados)\n",
        "#Gerando o Dataframe\n",
        "df"
      ],
      "execution_count": null,
      "outputs": [
        {
          "output_type": "execute_result",
          "data": {
            "text/html": [
              "<div>\n",
              "<style scoped>\n",
              "    .dataframe tbody tr th:only-of-type {\n",
              "        vertical-align: middle;\n",
              "    }\n",
              "\n",
              "    .dataframe tbody tr th {\n",
              "        vertical-align: top;\n",
              "    }\n",
              "\n",
              "    .dataframe thead th {\n",
              "        text-align: right;\n",
              "    }\n",
              "</style>\n",
              "<table border=\"1\" class=\"dataframe\">\n",
              "  <thead>\n",
              "    <tr style=\"text-align: right;\">\n",
              "      <th></th>\n",
              "      <th>nome</th>\n",
              "      <th>idade</th>\n",
              "      <th>Sexo</th>\n",
              "    </tr>\n",
              "  </thead>\n",
              "  <tbody>\n",
              "    <tr>\n",
              "      <th>0</th>\n",
              "      <td>Diego</td>\n",
              "      <td>34</td>\n",
              "      <td>m</td>\n",
              "    </tr>\n",
              "    <tr>\n",
              "      <th>1</th>\n",
              "      <td>Mirtes</td>\n",
              "      <td>30</td>\n",
              "      <td>f</td>\n",
              "    </tr>\n",
              "    <tr>\n",
              "      <th>2</th>\n",
              "      <td>Amanda</td>\n",
              "      <td>8</td>\n",
              "      <td>f</td>\n",
              "    </tr>\n",
              "    <tr>\n",
              "      <th>3</th>\n",
              "      <td>Eva</td>\n",
              "      <td>14</td>\n",
              "      <td>f</td>\n",
              "    </tr>\n",
              "    <tr>\n",
              "      <th>4</th>\n",
              "      <td>Katia</td>\n",
              "      <td>56</td>\n",
              "      <td>f</td>\n",
              "    </tr>\n",
              "    <tr>\n",
              "      <th>5</th>\n",
              "      <td>Tico</td>\n",
              "      <td>12</td>\n",
              "      <td>m</td>\n",
              "    </tr>\n",
              "    <tr>\n",
              "      <th>6</th>\n",
              "      <td>Deivison</td>\n",
              "      <td>57</td>\n",
              "      <td>m</td>\n",
              "    </tr>\n",
              "    <tr>\n",
              "      <th>7</th>\n",
              "      <td>Thesly</td>\n",
              "      <td>0</td>\n",
              "      <td></td>\n",
              "    </tr>\n",
              "    <tr>\n",
              "      <th>8</th>\n",
              "      <td>Miriam</td>\n",
              "      <td>0</td>\n",
              "      <td></td>\n",
              "    </tr>\n",
              "  </tbody>\n",
              "</table>\n",
              "</div>"
            ],
            "text/plain": [
              "       nome  idade Sexo\n",
              "0     Diego     34    m\n",
              "1    Mirtes     30    f\n",
              "2    Amanda      8    f\n",
              "3       Eva     14    f\n",
              "4     Katia     56    f\n",
              "5      Tico     12    m\n",
              "6  Deivison     57    m\n",
              "7    Thesly      0     \n",
              "8    Miriam      0     "
            ]
          },
          "metadata": {},
          "execution_count": 2
        }
      ]
    },
    {
      "cell_type": "code",
      "metadata": {
        "colab": {
          "base_uri": "https://localhost:8080/",
          "height": 328
        },
        "id": "8MkGoiGWsg_9",
        "outputId": "68fdd98e-e3d2-4780-98b2-5c4524b1328b"
      },
      "source": [
        "#incluindo Coluna\n",
        "df['saldo'] = 0.0\n",
        "#mostrando DataFrame\n",
        "df"
      ],
      "execution_count": null,
      "outputs": [
        {
          "output_type": "execute_result",
          "data": {
            "text/html": [
              "<div>\n",
              "<style scoped>\n",
              "    .dataframe tbody tr th:only-of-type {\n",
              "        vertical-align: middle;\n",
              "    }\n",
              "\n",
              "    .dataframe tbody tr th {\n",
              "        vertical-align: top;\n",
              "    }\n",
              "\n",
              "    .dataframe thead th {\n",
              "        text-align: right;\n",
              "    }\n",
              "</style>\n",
              "<table border=\"1\" class=\"dataframe\">\n",
              "  <thead>\n",
              "    <tr style=\"text-align: right;\">\n",
              "      <th></th>\n",
              "      <th>nome</th>\n",
              "      <th>idade</th>\n",
              "      <th>Sexo</th>\n",
              "      <th>saldo</th>\n",
              "    </tr>\n",
              "  </thead>\n",
              "  <tbody>\n",
              "    <tr>\n",
              "      <th>0</th>\n",
              "      <td>Diego</td>\n",
              "      <td>34</td>\n",
              "      <td>m</td>\n",
              "      <td>0.0</td>\n",
              "    </tr>\n",
              "    <tr>\n",
              "      <th>1</th>\n",
              "      <td>Mirtes</td>\n",
              "      <td>30</td>\n",
              "      <td>f</td>\n",
              "      <td>0.0</td>\n",
              "    </tr>\n",
              "    <tr>\n",
              "      <th>2</th>\n",
              "      <td>Amanda</td>\n",
              "      <td>8</td>\n",
              "      <td>f</td>\n",
              "      <td>0.0</td>\n",
              "    </tr>\n",
              "    <tr>\n",
              "      <th>3</th>\n",
              "      <td>Eva</td>\n",
              "      <td>14</td>\n",
              "      <td>f</td>\n",
              "      <td>0.0</td>\n",
              "    </tr>\n",
              "    <tr>\n",
              "      <th>4</th>\n",
              "      <td>Katia</td>\n",
              "      <td>56</td>\n",
              "      <td>f</td>\n",
              "      <td>0.0</td>\n",
              "    </tr>\n",
              "    <tr>\n",
              "      <th>5</th>\n",
              "      <td>Tico</td>\n",
              "      <td>12</td>\n",
              "      <td>m</td>\n",
              "      <td>0.0</td>\n",
              "    </tr>\n",
              "    <tr>\n",
              "      <th>6</th>\n",
              "      <td>Deivison</td>\n",
              "      <td>57</td>\n",
              "      <td>m</td>\n",
              "      <td>0.0</td>\n",
              "    </tr>\n",
              "    <tr>\n",
              "      <th>7</th>\n",
              "      <td>Thesly</td>\n",
              "      <td>0</td>\n",
              "      <td></td>\n",
              "      <td>0.0</td>\n",
              "    </tr>\n",
              "    <tr>\n",
              "      <th>8</th>\n",
              "      <td>Miriam</td>\n",
              "      <td>0</td>\n",
              "      <td></td>\n",
              "      <td>0.0</td>\n",
              "    </tr>\n",
              "  </tbody>\n",
              "</table>\n",
              "</div>"
            ],
            "text/plain": [
              "       nome  idade Sexo  saldo\n",
              "0     Diego     34    m    0.0\n",
              "1    Mirtes     30    f    0.0\n",
              "2    Amanda      8    f    0.0\n",
              "3       Eva     14    f    0.0\n",
              "4     Katia     56    f    0.0\n",
              "5      Tico     12    m    0.0\n",
              "6  Deivison     57    m    0.0\n",
              "7    Thesly      0         0.0\n",
              "8    Miriam      0         0.0"
            ]
          },
          "metadata": {},
          "execution_count": 3
        }
      ]
    },
    {
      "cell_type": "code",
      "metadata": {
        "colab": {
          "base_uri": "https://localhost:8080/",
          "height": 328
        },
        "id": "UQnG0TPVtP7D",
        "outputId": "ac98fa96-2f99-41f3-9ef6-761779c45ed9"
      },
      "source": [
        "#Alterando o nome das colunas\n",
        "df.columns = ['Nome', 'Idade', 'Genero','Qtde']\n",
        "#mostrando o DataFrame\n",
        "df"
      ],
      "execution_count": null,
      "outputs": [
        {
          "output_type": "execute_result",
          "data": {
            "text/html": [
              "<div>\n",
              "<style scoped>\n",
              "    .dataframe tbody tr th:only-of-type {\n",
              "        vertical-align: middle;\n",
              "    }\n",
              "\n",
              "    .dataframe tbody tr th {\n",
              "        vertical-align: top;\n",
              "    }\n",
              "\n",
              "    .dataframe thead th {\n",
              "        text-align: right;\n",
              "    }\n",
              "</style>\n",
              "<table border=\"1\" class=\"dataframe\">\n",
              "  <thead>\n",
              "    <tr style=\"text-align: right;\">\n",
              "      <th></th>\n",
              "      <th>Nome</th>\n",
              "      <th>Idade</th>\n",
              "      <th>Genero</th>\n",
              "      <th>Qtde</th>\n",
              "    </tr>\n",
              "  </thead>\n",
              "  <tbody>\n",
              "    <tr>\n",
              "      <th>0</th>\n",
              "      <td>Diego</td>\n",
              "      <td>34</td>\n",
              "      <td>m</td>\n",
              "      <td>0.0</td>\n",
              "    </tr>\n",
              "    <tr>\n",
              "      <th>1</th>\n",
              "      <td>Mirtes</td>\n",
              "      <td>30</td>\n",
              "      <td>f</td>\n",
              "      <td>0.0</td>\n",
              "    </tr>\n",
              "    <tr>\n",
              "      <th>2</th>\n",
              "      <td>Amanda</td>\n",
              "      <td>8</td>\n",
              "      <td>f</td>\n",
              "      <td>0.0</td>\n",
              "    </tr>\n",
              "    <tr>\n",
              "      <th>3</th>\n",
              "      <td>Eva</td>\n",
              "      <td>14</td>\n",
              "      <td>f</td>\n",
              "      <td>0.0</td>\n",
              "    </tr>\n",
              "    <tr>\n",
              "      <th>4</th>\n",
              "      <td>Katia</td>\n",
              "      <td>56</td>\n",
              "      <td>f</td>\n",
              "      <td>0.0</td>\n",
              "    </tr>\n",
              "    <tr>\n",
              "      <th>5</th>\n",
              "      <td>Tico</td>\n",
              "      <td>12</td>\n",
              "      <td>m</td>\n",
              "      <td>0.0</td>\n",
              "    </tr>\n",
              "    <tr>\n",
              "      <th>6</th>\n",
              "      <td>Deivison</td>\n",
              "      <td>57</td>\n",
              "      <td>m</td>\n",
              "      <td>0.0</td>\n",
              "    </tr>\n",
              "    <tr>\n",
              "      <th>7</th>\n",
              "      <td>Thesly</td>\n",
              "      <td>0</td>\n",
              "      <td></td>\n",
              "      <td>0.0</td>\n",
              "    </tr>\n",
              "    <tr>\n",
              "      <th>8</th>\n",
              "      <td>Miriam</td>\n",
              "      <td>0</td>\n",
              "      <td></td>\n",
              "      <td>0.0</td>\n",
              "    </tr>\n",
              "  </tbody>\n",
              "</table>\n",
              "</div>"
            ],
            "text/plain": [
              "       Nome  Idade Genero  Qtde\n",
              "0     Diego     34      m   0.0\n",
              "1    Mirtes     30      f   0.0\n",
              "2    Amanda      8      f   0.0\n",
              "3       Eva     14      f   0.0\n",
              "4     Katia     56      f   0.0\n",
              "5      Tico     12      m   0.0\n",
              "6  Deivison     57      m   0.0\n",
              "7    Thesly      0          0.0\n",
              "8    Miriam      0          0.0"
            ]
          },
          "metadata": {},
          "execution_count": 179
        }
      ]
    },
    {
      "cell_type": "code",
      "metadata": {
        "colab": {
          "base_uri": "https://localhost:8080/",
          "height": 297
        },
        "id": "5m9slwb_x-Ao",
        "outputId": "8ca75995-5188-4137-c1cd-5ff4027ccf7c"
      },
      "source": [
        "#Informações de estatística\n",
        "df.describe()"
      ],
      "execution_count": null,
      "outputs": [
        {
          "output_type": "execute_result",
          "data": {
            "text/html": [
              "<div>\n",
              "<style scoped>\n",
              "    .dataframe tbody tr th:only-of-type {\n",
              "        vertical-align: middle;\n",
              "    }\n",
              "\n",
              "    .dataframe tbody tr th {\n",
              "        vertical-align: top;\n",
              "    }\n",
              "\n",
              "    .dataframe thead th {\n",
              "        text-align: right;\n",
              "    }\n",
              "</style>\n",
              "<table border=\"1\" class=\"dataframe\">\n",
              "  <thead>\n",
              "    <tr style=\"text-align: right;\">\n",
              "      <th></th>\n",
              "      <th>Idade</th>\n",
              "      <th>Qtde</th>\n",
              "    </tr>\n",
              "  </thead>\n",
              "  <tbody>\n",
              "    <tr>\n",
              "      <th>count</th>\n",
              "      <td>9.000000</td>\n",
              "      <td>9.0</td>\n",
              "    </tr>\n",
              "    <tr>\n",
              "      <th>mean</th>\n",
              "      <td>23.444444</td>\n",
              "      <td>0.0</td>\n",
              "    </tr>\n",
              "    <tr>\n",
              "      <th>std</th>\n",
              "      <td>22.074369</td>\n",
              "      <td>0.0</td>\n",
              "    </tr>\n",
              "    <tr>\n",
              "      <th>min</th>\n",
              "      <td>0.000000</td>\n",
              "      <td>0.0</td>\n",
              "    </tr>\n",
              "    <tr>\n",
              "      <th>25%</th>\n",
              "      <td>8.000000</td>\n",
              "      <td>0.0</td>\n",
              "    </tr>\n",
              "    <tr>\n",
              "      <th>50%</th>\n",
              "      <td>14.000000</td>\n",
              "      <td>0.0</td>\n",
              "    </tr>\n",
              "    <tr>\n",
              "      <th>75%</th>\n",
              "      <td>34.000000</td>\n",
              "      <td>0.0</td>\n",
              "    </tr>\n",
              "    <tr>\n",
              "      <th>max</th>\n",
              "      <td>57.000000</td>\n",
              "      <td>0.0</td>\n",
              "    </tr>\n",
              "  </tbody>\n",
              "</table>\n",
              "</div>"
            ],
            "text/plain": [
              "           Idade  Qtde\n",
              "count   9.000000   9.0\n",
              "mean   23.444444   0.0\n",
              "std    22.074369   0.0\n",
              "min     0.000000   0.0\n",
              "25%     8.000000   0.0\n",
              "50%    14.000000   0.0\n",
              "75%    34.000000   0.0\n",
              "max    57.000000   0.0"
            ]
          },
          "metadata": {},
          "execution_count": 180
        }
      ]
    },
    {
      "cell_type": "code",
      "metadata": {
        "colab": {
          "base_uri": "https://localhost:8080/"
        },
        "id": "7suJpYtwyIq4",
        "outputId": "9481cc57-0fbb-4f26-fc57-4025cc6523e7"
      },
      "source": [
        "#Trazendo o valor máximo\n",
        "df.Idade.max()"
      ],
      "execution_count": null,
      "outputs": [
        {
          "output_type": "execute_result",
          "data": {
            "text/plain": [
              "57"
            ]
          },
          "metadata": {},
          "execution_count": 181
        }
      ]
    },
    {
      "cell_type": "code",
      "metadata": {
        "colab": {
          "base_uri": "https://localhost:8080/"
        },
        "id": "rah9cNc8yQQw",
        "outputId": "404c5f80-01e0-4ab7-fcb4-8212c4737c0f"
      },
      "source": [
        "#Trazendo o valor minimo\n",
        "df.Idade.min()"
      ],
      "execution_count": null,
      "outputs": [
        {
          "output_type": "execute_result",
          "data": {
            "text/plain": [
              "0"
            ]
          },
          "metadata": {},
          "execution_count": 182
        }
      ]
    },
    {
      "cell_type": "code",
      "metadata": {
        "colab": {
          "base_uri": "https://localhost:8080/"
        },
        "id": "ktoVYI8MzI1d",
        "outputId": "df87a218-0628-4f7b-83c9-771d5e2289e8"
      },
      "source": [
        "#Trazendo a média\n",
        "df.Idade.mean()"
      ],
      "execution_count": null,
      "outputs": [
        {
          "output_type": "execute_result",
          "data": {
            "text/plain": [
              "23.444444444444443"
            ]
          },
          "metadata": {},
          "execution_count": 183
        }
      ]
    },
    {
      "cell_type": "code",
      "metadata": {
        "colab": {
          "base_uri": "https://localhost:8080/"
        },
        "id": "1_OFANMLypPX",
        "outputId": "f2fef4bc-4913-43b7-95ce-bbdfbb065d18"
      },
      "source": [
        "#Trazendo a mediana\n",
        "df.Idade.median()"
      ],
      "execution_count": null,
      "outputs": [
        {
          "output_type": "execute_result",
          "data": {
            "text/plain": [
              "14.0"
            ]
          },
          "metadata": {},
          "execution_count": 184
        }
      ]
    },
    {
      "cell_type": "code",
      "metadata": {
        "colab": {
          "base_uri": "https://localhost:8080/"
        },
        "id": "jXPXtUhgzAuu",
        "outputId": "4e2892a4-48f5-4df8-d739-214623438346"
      },
      "source": [
        "#Trazendo o valor somatório das idade\n",
        "df.Idade.sum()"
      ],
      "execution_count": null,
      "outputs": [
        {
          "output_type": "execute_result",
          "data": {
            "text/plain": [
              "211"
            ]
          },
          "metadata": {},
          "execution_count": 185
        }
      ]
    },
    {
      "cell_type": "code",
      "metadata": {
        "colab": {
          "base_uri": "https://localhost:8080/",
          "height": 265
        },
        "id": "xivSnPj-0h6D",
        "outputId": "4dd67a28-54fa-41ef-cd8a-5cf89b0b1af8"
      },
      "source": [
        "#Visualizando Gráficos/Dados\n",
        "df.Idade.plot();"
      ],
      "execution_count": null,
      "outputs": [
        {
          "output_type": "display_data",
          "data": {
            "image/png": "[encoded data removed]",
            "text/plain": [
              "<Figure size 432x288 with 1 Axes>"
            ]
          },
          "metadata": {
            "needs_background": "light"
          }
        }
      ]
    },
    {
      "cell_type": "code",
      "metadata": {
        "colab": {
          "base_uri": "https://localhost:8080/",
          "height": 265
        },
        "id": "nHdUjAHJ1dMI",
        "outputId": "dd8f4fb5-28a0-4a19-baaa-aebee23dfcb2"
      },
      "source": [
        "#Visualizando histograma\n",
        "df.Idade.hist();"
      ],
      "execution_count": null,
      "outputs": [
        {
          "output_type": "display_data",
          "data": {
            "image/png": "[encoded data removed]",
            "text/plain": [
              "<Figure size 432x288 with 1 Axes>"
            ]
          },
          "metadata": {
            "needs_background": "light"
          }
        }
      ]
    },
    {
      "cell_type": "code",
      "metadata": {
        "colab": {
          "base_uri": "https://localhost:8080/",
          "height": 279
        },
        "id": "ZxNTErWA1-xn",
        "outputId": "312d39a5-6e58-4c76-f49a-683a540348e9"
      },
      "source": [
        "\n",
        "#Gráfico de Dispersão com Scatter Plot\n",
        "df.plot.scatter('Idade','Genero');"
      ],
      "execution_count": null,
      "outputs": [
        {
          "output_type": "display_data",
          "data": {
            "image/png": "[encoded data removed]",
            "text/plain": [
              "<Figure size 432x288 with 1 Axes>"
            ]
          },
          "metadata": {
            "needs_background": "light"
          }
        }
      ]
    },
    {
      "cell_type": "code",
      "metadata": {
        "id": "mF-GQ8MA25BP",
        "colab": {
          "base_uri": "https://localhost:8080/",
          "height": 265
        },
        "outputId": "7df0c9e3-06cd-46b7-9acf-d88772629df7"
      },
      "source": [
        "#Plotar o Boxplot com a Idade.\n",
        "df.Idade.plot(kind=\"box\");"
      ],
      "execution_count": null,
      "outputs": [
        {
          "output_type": "display_data",
          "data": {
            "image/png": "[encoded data removed]",
            "text/plain": [
              "<Figure size 432x288 with 1 Axes>"
            ]
          },
          "metadata": {
            "needs_background": "light"
          }
        }
      ]
    },
    {
      "cell_type": "code",
      "metadata": {
        "id": "1sPK1r4I3JmL",
        "colab": {
          "base_uri": "https://localhost:8080/"
        },
        "outputId": "bf7c6915-53d5-4bed-eefb-a1afa46b374b"
      },
      "source": [
        "#Análise exploratória\n",
        "df.info()"
      ],
      "execution_count": null,
      "outputs": [
        {
          "output_type": "stream",
          "name": "stdout",
          "text": [
            "<class 'pandas.core.frame.DataFrame'>\n",
            "RangeIndex: 9 entries, 0 to 8\n",
            "Data columns (total 4 columns):\n",
            " #   Column  Non-Null Count  Dtype  \n",
            "---  ------  --------------  -----  \n",
            " 0   Nome    9 non-null      object \n",
            " 1   Idade   9 non-null      int64  \n",
            " 2   Genero  9 non-null      object \n",
            " 3   Qtde    9 non-null      float64\n",
            "dtypes: float64(1), int64(1), object(2)\n",
            "memory usage: 416.0+ bytes\n"
          ]
        }
      ]
    },
    {
      "cell_type": "code",
      "metadata": {
        "colab": {
          "base_uri": "https://localhost:8080/"
        },
        "id": "MSKKMLOa5Z0R",
        "outputId": "2d34927f-724a-4586-8ec3-a23aae22fa6b"
      },
      "source": [
        "#Informação sobre os tipos de variáveias\n",
        "df.dtypes"
      ],
      "execution_count": null,
      "outputs": [
        {
          "output_type": "execute_result",
          "data": {
            "text/plain": [
              "Nome       object\n",
              "Idade       int64\n",
              "Genero     object\n",
              "Qtde      float64\n",
              "dtype: object"
            ]
          },
          "metadata": {},
          "execution_count": 191
        }
      ]
    },
    {
      "cell_type": "code",
      "metadata": {
        "colab": {
          "base_uri": "https://localhost:8080/"
        },
        "id": "nIFucDv_5vUo",
        "outputId": "0c18ec10-ea20-4be4-f686-60f3a7380d4e"
      },
      "source": [
        "#Encontrando os valores único\n",
        "df.Genero.unique()"
      ],
      "execution_count": null,
      "outputs": [
        {
          "output_type": "execute_result",
          "data": {
            "text/plain": [
              "array(['m', 'f', ''], dtype=object)"
            ]
          },
          "metadata": {},
          "execution_count": 192
        }
      ]
    },
    {
      "cell_type": "code",
      "metadata": {
        "colab": {
          "base_uri": "https://localhost:8080/"
        },
        "id": "Qciuke876Oae",
        "outputId": "3f9c0699-3621-40b9-dff7-0dd05f488c91"
      },
      "source": [
        "#Contando os valores únicos\n",
        "df.Genero.value_counts()"
      ],
      "execution_count": null,
      "outputs": [
        {
          "output_type": "execute_result",
          "data": {
            "text/plain": [
              "f    4\n",
              "m    3\n",
              "     2\n",
              "Name: Genero, dtype: int64"
            ]
          },
          "metadata": {},
          "execution_count": 193
        }
      ]
    },
    {
      "cell_type": "code",
      "metadata": {
        "colab": {
          "base_uri": "https://localhost:8080/"
        },
        "id": "_CIhOQWK6imG",
        "outputId": "dbf2ec66-5c04-4ada-c7df-7151722b2390"
      },
      "source": [
        "#Sabendo a contagem em porcentagem\n",
        "df.Genero.value_counts() / df.shape[0]"
      ],
      "execution_count": null,
      "outputs": [
        {
          "output_type": "execute_result",
          "data": {
            "text/plain": [
              "f    0.444444\n",
              "m    0.333333\n",
              "     0.222222\n",
              "Name: Genero, dtype: float64"
            ]
          },
          "metadata": {},
          "execution_count": 194
        }
      ]
    },
    {
      "cell_type": "code",
      "metadata": {
        "colab": {
          "base_uri": "https://localhost:8080/"
        },
        "id": "FqlF_U_87hGM",
        "outputId": "3152f7a7-c2c0-48d1-a37e-c6e05e263b28"
      },
      "source": [
        "#Usando o LOC\n",
        "df.loc[1,[\"Nome\", \"Idade\",\"Genero\"]]"
      ],
      "execution_count": null,
      "outputs": [
        {
          "output_type": "execute_result",
          "data": {
            "text/plain": [
              "Nome      Mirtes\n",
              "Idade         30\n",
              "Genero         f\n",
              "Name: 1, dtype: object"
            ]
          },
          "metadata": {},
          "execution_count": 195
        }
      ]
    },
    {
      "cell_type": "code",
      "metadata": {
        "colab": {
          "base_uri": "https://localhost:8080/",
          "height": 173
        },
        "id": "E9I92y6c704T",
        "outputId": "74b3347f-56eb-478d-992e-894edb8d11ec"
      },
      "source": [
        "#Usando LOC com condicional\n",
        "df.loc[df.Genero == \"f\"]"
      ],
      "execution_count": null,
      "outputs": [
        {
          "output_type": "execute_result",
          "data": {
            "text/html": [
              "<div>\n",
              "<style scoped>\n",
              "    .dataframe tbody tr th:only-of-type {\n",
              "        vertical-align: middle;\n",
              "    }\n",
              "\n",
              "    .dataframe tbody tr th {\n",
              "        vertical-align: top;\n",
              "    }\n",
              "\n",
              "    .dataframe thead th {\n",
              "        text-align: right;\n",
              "    }\n",
              "</style>\n",
              "<table border=\"1\" class=\"dataframe\">\n",
              "  <thead>\n",
              "    <tr style=\"text-align: right;\">\n",
              "      <th></th>\n",
              "      <th>Nome</th>\n",
              "      <th>Idade</th>\n",
              "      <th>Genero</th>\n",
              "      <th>Qtde</th>\n",
              "    </tr>\n",
              "  </thead>\n",
              "  <tbody>\n",
              "    <tr>\n",
              "      <th>1</th>\n",
              "      <td>Mirtes</td>\n",
              "      <td>30</td>\n",
              "      <td>f</td>\n",
              "      <td>0.0</td>\n",
              "    </tr>\n",
              "    <tr>\n",
              "      <th>2</th>\n",
              "      <td>Amanda</td>\n",
              "      <td>8</td>\n",
              "      <td>f</td>\n",
              "      <td>0.0</td>\n",
              "    </tr>\n",
              "    <tr>\n",
              "      <th>3</th>\n",
              "      <td>Eva</td>\n",
              "      <td>14</td>\n",
              "      <td>f</td>\n",
              "      <td>0.0</td>\n",
              "    </tr>\n",
              "    <tr>\n",
              "      <th>4</th>\n",
              "      <td>Katia</td>\n",
              "      <td>56</td>\n",
              "      <td>f</td>\n",
              "      <td>0.0</td>\n",
              "    </tr>\n",
              "  </tbody>\n",
              "</table>\n",
              "</div>"
            ],
            "text/plain": [
              "     Nome  Idade Genero  Qtde\n",
              "1  Mirtes     30      f   0.0\n",
              "2  Amanda      8      f   0.0\n",
              "3     Eva     14      f   0.0\n",
              "4   Katia     56      f   0.0"
            ]
          },
          "metadata": {},
          "execution_count": 196
        }
      ]
    },
    {
      "cell_type": "code",
      "metadata": {
        "colab": {
          "base_uri": "https://localhost:8080/",
          "height": 173
        },
        "id": "nhXMo-YU8FAN",
        "outputId": "12da877c-dfb7-4609-b5e7-a621726e564b"
      },
      "source": [
        "#Usando o ILOC\n",
        "df.iloc[:4,:2]"
      ],
      "execution_count": null,
      "outputs": [
        {
          "output_type": "execute_result",
          "data": {
            "text/html": [
              "<div>\n",
              "<style scoped>\n",
              "    .dataframe tbody tr th:only-of-type {\n",
              "        vertical-align: middle;\n",
              "    }\n",
              "\n",
              "    .dataframe tbody tr th {\n",
              "        vertical-align: top;\n",
              "    }\n",
              "\n",
              "    .dataframe thead th {\n",
              "        text-align: right;\n",
              "    }\n",
              "</style>\n",
              "<table border=\"1\" class=\"dataframe\">\n",
              "  <thead>\n",
              "    <tr style=\"text-align: right;\">\n",
              "      <th></th>\n",
              "      <th>Nome</th>\n",
              "      <th>Idade</th>\n",
              "    </tr>\n",
              "  </thead>\n",
              "  <tbody>\n",
              "    <tr>\n",
              "      <th>0</th>\n",
              "      <td>Diego</td>\n",
              "      <td>34</td>\n",
              "    </tr>\n",
              "    <tr>\n",
              "      <th>1</th>\n",
              "      <td>Mirtes</td>\n",
              "      <td>30</td>\n",
              "    </tr>\n",
              "    <tr>\n",
              "      <th>2</th>\n",
              "      <td>Amanda</td>\n",
              "      <td>8</td>\n",
              "    </tr>\n",
              "    <tr>\n",
              "      <th>3</th>\n",
              "      <td>Eva</td>\n",
              "      <td>14</td>\n",
              "    </tr>\n",
              "  </tbody>\n",
              "</table>\n",
              "</div>"
            ],
            "text/plain": [
              "     Nome  Idade\n",
              "0   Diego     34\n",
              "1  Mirtes     30\n",
              "2  Amanda      8\n",
              "3     Eva     14"
            ]
          },
          "metadata": {},
          "execution_count": 197
        }
      ]
    },
    {
      "cell_type": "code",
      "metadata": {
        "colab": {
          "base_uri": "https://localhost:8080/",
          "height": 328
        },
        "id": "nJmPpoBV_bXN",
        "outputId": "eb830f63-7385-475a-de58-673c1f5ce693"
      },
      "source": [
        "df"
      ],
      "execution_count": null,
      "outputs": [
        {
          "output_type": "execute_result",
          "data": {
            "text/html": [
              "<div>\n",
              "<style scoped>\n",
              "    .dataframe tbody tr th:only-of-type {\n",
              "        vertical-align: middle;\n",
              "    }\n",
              "\n",
              "    .dataframe tbody tr th {\n",
              "        vertical-align: top;\n",
              "    }\n",
              "\n",
              "    .dataframe thead th {\n",
              "        text-align: right;\n",
              "    }\n",
              "</style>\n",
              "<table border=\"1\" class=\"dataframe\">\n",
              "  <thead>\n",
              "    <tr style=\"text-align: right;\">\n",
              "      <th></th>\n",
              "      <th>Nome</th>\n",
              "      <th>Idade</th>\n",
              "      <th>Genero</th>\n",
              "      <th>Qtde</th>\n",
              "    </tr>\n",
              "  </thead>\n",
              "  <tbody>\n",
              "    <tr>\n",
              "      <th>0</th>\n",
              "      <td>Diego</td>\n",
              "      <td>34</td>\n",
              "      <td>m</td>\n",
              "      <td>0.0</td>\n",
              "    </tr>\n",
              "    <tr>\n",
              "      <th>1</th>\n",
              "      <td>Mirtes</td>\n",
              "      <td>30</td>\n",
              "      <td>f</td>\n",
              "      <td>0.0</td>\n",
              "    </tr>\n",
              "    <tr>\n",
              "      <th>2</th>\n",
              "      <td>Amanda</td>\n",
              "      <td>8</td>\n",
              "      <td>f</td>\n",
              "      <td>0.0</td>\n",
              "    </tr>\n",
              "    <tr>\n",
              "      <th>3</th>\n",
              "      <td>Eva</td>\n",
              "      <td>14</td>\n",
              "      <td>f</td>\n",
              "      <td>0.0</td>\n",
              "    </tr>\n",
              "    <tr>\n",
              "      <th>4</th>\n",
              "      <td>Katia</td>\n",
              "      <td>56</td>\n",
              "      <td>f</td>\n",
              "      <td>0.0</td>\n",
              "    </tr>\n",
              "    <tr>\n",
              "      <th>5</th>\n",
              "      <td>Tico</td>\n",
              "      <td>12</td>\n",
              "      <td>m</td>\n",
              "      <td>0.0</td>\n",
              "    </tr>\n",
              "    <tr>\n",
              "      <th>6</th>\n",
              "      <td>Deivison</td>\n",
              "      <td>57</td>\n",
              "      <td>m</td>\n",
              "      <td>0.0</td>\n",
              "    </tr>\n",
              "    <tr>\n",
              "      <th>7</th>\n",
              "      <td>Thesly</td>\n",
              "      <td>0</td>\n",
              "      <td></td>\n",
              "      <td>0.0</td>\n",
              "    </tr>\n",
              "    <tr>\n",
              "      <th>8</th>\n",
              "      <td>Miriam</td>\n",
              "      <td>0</td>\n",
              "      <td></td>\n",
              "      <td>0.0</td>\n",
              "    </tr>\n",
              "  </tbody>\n",
              "</table>\n",
              "</div>"
            ],
            "text/plain": [
              "       Nome  Idade Genero  Qtde\n",
              "0     Diego     34      m   0.0\n",
              "1    Mirtes     30      f   0.0\n",
              "2    Amanda      8      f   0.0\n",
              "3       Eva     14      f   0.0\n",
              "4     Katia     56      f   0.0\n",
              "5      Tico     12      m   0.0\n",
              "6  Deivison     57      m   0.0\n",
              "7    Thesly      0          0.0\n",
              "8    Miriam      0          0.0"
            ]
          },
          "metadata": {},
          "execution_count": 198
        }
      ]
    },
    {
      "cell_type": "code",
      "metadata": {
        "colab": {
          "base_uri": "https://localhost:8080/"
        },
        "id": "8GvYL9qh-qg9",
        "outputId": "20aab13d-b33a-40a0-9ac3-7b5398908b31"
      },
      "source": [
        "#Trabalhando com valores ausentes\n",
        "df.isnull().sum()"
      ],
      "execution_count": null,
      "outputs": [
        {
          "output_type": "execute_result",
          "data": {
            "text/plain": [
              "Nome      0\n",
              "Idade     0\n",
              "Genero    0\n",
              "Qtde      0\n",
              "dtype: int64"
            ]
          },
          "metadata": {},
          "execution_count": 199
        }
      ]
    },
    {
      "cell_type": "code",
      "metadata": {
        "id": "PpdFuI87_qai",
        "colab": {
          "base_uri": "https://localhost:8080/"
        },
        "outputId": "e1fb9259-a781-4184-ce2c-868af73f1942"
      },
      "source": [
        "df.isnull().sum() / df.shape[0]"
      ],
      "execution_count": null,
      "outputs": [
        {
          "output_type": "execute_result",
          "data": {
            "text/plain": [
              "Nome      0.0\n",
              "Idade     0.0\n",
              "Genero    0.0\n",
              "Qtde      0.0\n",
              "dtype: float64"
            ]
          },
          "metadata": {},
          "execution_count": 200
        }
      ]
    },
    {
      "cell_type": "code",
      "metadata": {
        "colab": {
          "base_uri": "https://localhost:8080/",
          "height": 328
        },
        "id": "dJ3ogOPEAnlL",
        "outputId": "0494422d-9a64-4810-e99c-5adf7239dad5"
      },
      "source": [
        "#Elimina todas as entradas onde existam valores ausentes em Genero\n",
        "df_row_dropna = df.dropna(subset=['Genero'], axis=0)\n",
        "#Mostra a df_row_dropna\n",
        "df_row_dropna"
      ],
      "execution_count": null,
      "outputs": [
        {
          "output_type": "execute_result",
          "data": {
            "text/html": [
              "<div>\n",
              "<style scoped>\n",
              "    .dataframe tbody tr th:only-of-type {\n",
              "        vertical-align: middle;\n",
              "    }\n",
              "\n",
              "    .dataframe tbody tr th {\n",
              "        vertical-align: top;\n",
              "    }\n",
              "\n",
              "    .dataframe thead th {\n",
              "        text-align: right;\n",
              "    }\n",
              "</style>\n",
              "<table border=\"1\" class=\"dataframe\">\n",
              "  <thead>\n",
              "    <tr style=\"text-align: right;\">\n",
              "      <th></th>\n",
              "      <th>Nome</th>\n",
              "      <th>Idade</th>\n",
              "      <th>Genero</th>\n",
              "      <th>Qtde</th>\n",
              "    </tr>\n",
              "  </thead>\n",
              "  <tbody>\n",
              "    <tr>\n",
              "      <th>0</th>\n",
              "      <td>Diego</td>\n",
              "      <td>34</td>\n",
              "      <td>m</td>\n",
              "      <td>0.0</td>\n",
              "    </tr>\n",
              "    <tr>\n",
              "      <th>1</th>\n",
              "      <td>Mirtes</td>\n",
              "      <td>30</td>\n",
              "      <td>f</td>\n",
              "      <td>0.0</td>\n",
              "    </tr>\n",
              "    <tr>\n",
              "      <th>2</th>\n",
              "      <td>Amanda</td>\n",
              "      <td>8</td>\n",
              "      <td>f</td>\n",
              "      <td>0.0</td>\n",
              "    </tr>\n",
              "    <tr>\n",
              "      <th>3</th>\n",
              "      <td>Eva</td>\n",
              "      <td>14</td>\n",
              "      <td>f</td>\n",
              "      <td>0.0</td>\n",
              "    </tr>\n",
              "    <tr>\n",
              "      <th>4</th>\n",
              "      <td>Katia</td>\n",
              "      <td>56</td>\n",
              "      <td>f</td>\n",
              "      <td>0.0</td>\n",
              "    </tr>\n",
              "    <tr>\n",
              "      <th>5</th>\n",
              "      <td>Tico</td>\n",
              "      <td>12</td>\n",
              "      <td>m</td>\n",
              "      <td>0.0</td>\n",
              "    </tr>\n",
              "    <tr>\n",
              "      <th>6</th>\n",
              "      <td>Deivison</td>\n",
              "      <td>57</td>\n",
              "      <td>m</td>\n",
              "      <td>0.0</td>\n",
              "    </tr>\n",
              "    <tr>\n",
              "      <th>7</th>\n",
              "      <td>Thesly</td>\n",
              "      <td>0</td>\n",
              "      <td></td>\n",
              "      <td>0.0</td>\n",
              "    </tr>\n",
              "    <tr>\n",
              "      <th>8</th>\n",
              "      <td>Miriam</td>\n",
              "      <td>0</td>\n",
              "      <td></td>\n",
              "      <td>0.0</td>\n",
              "    </tr>\n",
              "  </tbody>\n",
              "</table>\n",
              "</div>"
            ],
            "text/plain": [
              "       Nome  Idade Genero  Qtde\n",
              "0     Diego     34      m   0.0\n",
              "1    Mirtes     30      f   0.0\n",
              "2    Amanda      8      f   0.0\n",
              "3       Eva     14      f   0.0\n",
              "4     Katia     56      f   0.0\n",
              "5      Tico     12      m   0.0\n",
              "6  Deivison     57      m   0.0\n",
              "7    Thesly      0          0.0\n",
              "8    Miriam      0          0.0"
            ]
          },
          "metadata": {},
          "execution_count": 201
        }
      ]
    },
    {
      "cell_type": "markdown",
      "metadata": {
        "id": "rAi4vnw1Bnrt"
      },
      "source": [
        "## Axis = 0 --Elimina a linha\n",
        "## Axis = 1 -- Elimina a coluna"
      ]
    },
    {
      "cell_type": "code",
      "metadata": {
        "colab": {
          "base_uri": "https://localhost:8080/"
        },
        "id": "I-owbfpQCIV2",
        "outputId": "6164018e-4330-411d-be6f-2b75b6357e50"
      },
      "source": [
        "#Preenchendo as entradas vazias pela mediana\n",
        "Idade_mediana = df.Idade.median()\n",
        "df.Idade.fillna(Idade_mediana, inplace=True)\n",
        "#Vendo os valores ausentes\n",
        "df.Idade.isnull().sum()"
      ],
      "execution_count": null,
      "outputs": [
        {
          "output_type": "execute_result",
          "data": {
            "text/plain": [
              "0"
            ]
          },
          "metadata": {},
          "execution_count": 206
        }
      ]
    }
  ]
}