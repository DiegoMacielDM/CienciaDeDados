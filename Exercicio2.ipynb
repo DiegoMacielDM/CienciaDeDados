{
  "nbformat": 4,
  "nbformat_minor": 0,
  "metadata": {
    "colab": {
      "name": "Exercicio2.ipynb",
      "provenance": [],
      "authorship_tag": "ABX9TyO9kB2y+CuqPxG0gt7BzfDG",
      "include_colab_link": true
    },
    "kernelspec": {
      "name": "python3",
      "display_name": "Python 3"
    },
    "language_info": {
      "name": "python"
    }
  },
  "cells": [
    {
      "cell_type": "markdown",
      "metadata": {
        "id": "view-in-github",
        "colab_type": "text"
      },
      "source": [
        "<a href=\"https://colab.research.google.com/github/DiegoMacielDM/CienciaDeDados/blob/main/Exercicio2.ipynb\" target=\"_parent\"><img src=\"https://colab.research.google.com/assets/colab-badge.svg\" alt=\"Open In Colab\"/></a>"
      ]
    },
    {
      "cell_type": "code",
      "metadata": {
        "id": "B3zJ4N1MHY-r"
      },
      "source": [
        "# importando a biblioteca pandas do Python\n",
        "import pandas as pd\n",
        "\n",
        "# importando os dados\n",
        "df = pd.read_csv(\"https://raw.githubusercontent.com/carlosfab/curso_data_science_na_pratica/master/modulo_02/BBAS3.SA.csv\",\n",
        "                       index_col=\"Date\")"
      ],
      "execution_count": null,
      "outputs": []
    },
    {
      "cell_type": "code",
      "metadata": {
        "colab": {
          "base_uri": "https://localhost:8080/",
          "height": 297
        },
        "id": "sYOKj9v6IqGe",
        "outputId": "5e93a6f3-1013-43db-c779-05a52127eae0"
      },
      "source": [
        "#Analisando as 7 primeiras entradas do conjunto de dados.\n",
        "df.head(7)"
      ],
      "execution_count": null,
      "outputs": [
        {
          "output_type": "execute_result",
          "data": {
            "text/html": [
              "<div>\n",
              "<style scoped>\n",
              "    .dataframe tbody tr th:only-of-type {\n",
              "        vertical-align: middle;\n",
              "    }\n",
              "\n",
              "    .dataframe tbody tr th {\n",
              "        vertical-align: top;\n",
              "    }\n",
              "\n",
              "    .dataframe thead th {\n",
              "        text-align: right;\n",
              "    }\n",
              "</style>\n",
              "<table border=\"1\" class=\"dataframe\">\n",
              "  <thead>\n",
              "    <tr style=\"text-align: right;\">\n",
              "      <th></th>\n",
              "      <th>Open</th>\n",
              "      <th>High</th>\n",
              "      <th>Low</th>\n",
              "      <th>Close</th>\n",
              "      <th>Adj Close</th>\n",
              "      <th>Volume</th>\n",
              "    </tr>\n",
              "    <tr>\n",
              "      <th>Date</th>\n",
              "      <th></th>\n",
              "      <th></th>\n",
              "      <th></th>\n",
              "      <th></th>\n",
              "      <th></th>\n",
              "      <th></th>\n",
              "    </tr>\n",
              "  </thead>\n",
              "  <tbody>\n",
              "    <tr>\n",
              "      <th>2018-09-21</th>\n",
              "      <td>29.730000</td>\n",
              "      <td>30.580000</td>\n",
              "      <td>29.340000</td>\n",
              "      <td>30.580000</td>\n",
              "      <td>28.680056</td>\n",
              "      <td>16301600</td>\n",
              "    </tr>\n",
              "    <tr>\n",
              "      <th>2018-09-24</th>\n",
              "      <td>30.379999</td>\n",
              "      <td>30.700001</td>\n",
              "      <td>29.500000</td>\n",
              "      <td>29.730000</td>\n",
              "      <td>27.882866</td>\n",
              "      <td>13086900</td>\n",
              "    </tr>\n",
              "    <tr>\n",
              "      <th>2018-09-25</th>\n",
              "      <td>29.030001</td>\n",
              "      <td>29.760000</td>\n",
              "      <td>28.809999</td>\n",
              "      <td>29.549999</td>\n",
              "      <td>27.714045</td>\n",
              "      <td>11742900</td>\n",
              "    </tr>\n",
              "    <tr>\n",
              "      <th>2018-09-26</th>\n",
              "      <td>29.650000</td>\n",
              "      <td>29.969999</td>\n",
              "      <td>29.209999</td>\n",
              "      <td>29.450001</td>\n",
              "      <td>27.620264</td>\n",
              "      <td>12842400</td>\n",
              "    </tr>\n",
              "    <tr>\n",
              "      <th>2018-09-27</th>\n",
              "      <td>29.680000</td>\n",
              "      <td>30.299999</td>\n",
              "      <td>29.680000</td>\n",
              "      <td>30.290001</td>\n",
              "      <td>28.408072</td>\n",
              "      <td>8767900</td>\n",
              "    </tr>\n",
              "    <tr>\n",
              "      <th>2018-09-28</th>\n",
              "      <td>29.830000</td>\n",
              "      <td>29.980000</td>\n",
              "      <td>29.299999</td>\n",
              "      <td>29.450001</td>\n",
              "      <td>27.620264</td>\n",
              "      <td>12790900</td>\n",
              "    </tr>\n",
              "    <tr>\n",
              "      <th>2018-10-01</th>\n",
              "      <td>29.549999</td>\n",
              "      <td>29.760000</td>\n",
              "      <td>28.200001</td>\n",
              "      <td>28.209999</td>\n",
              "      <td>26.457306</td>\n",
              "      <td>15677500</td>\n",
              "    </tr>\n",
              "  </tbody>\n",
              "</table>\n",
              "</div>"
            ],
            "text/plain": [
              "                 Open       High        Low      Close  Adj Close    Volume\n",
              "Date                                                                       \n",
              "2018-09-21  29.730000  30.580000  29.340000  30.580000  28.680056  16301600\n",
              "2018-09-24  30.379999  30.700001  29.500000  29.730000  27.882866  13086900\n",
              "2018-09-25  29.030001  29.760000  28.809999  29.549999  27.714045  11742900\n",
              "2018-09-26  29.650000  29.969999  29.209999  29.450001  27.620264  12842400\n",
              "2018-09-27  29.680000  30.299999  29.680000  30.290001  28.408072   8767900\n",
              "2018-09-28  29.830000  29.980000  29.299999  29.450001  27.620264  12790900\n",
              "2018-10-01  29.549999  29.760000  28.200001  28.209999  26.457306  15677500"
            ]
          },
          "metadata": {},
          "execution_count": 14
        }
      ]
    },
    {
      "cell_type": "code",
      "metadata": {
        "colab": {
          "base_uri": "https://localhost:8080/"
        },
        "id": "bm8LaJAWHl26",
        "outputId": "51590a65-a2a0-4468-a0a1-bdf16d6a4505"
      },
      "source": [
        "#Análisando o qual o tamanho (linhas e colunas) do conjunto de dados importado.\n",
        "df.shape"
      ],
      "execution_count": null,
      "outputs": [
        {
          "output_type": "execute_result",
          "data": {
            "text/plain": [
              "(246, 6)"
            ]
          },
          "metadata": {},
          "execution_count": 15
        }
      ]
    },
    {
      "cell_type": "code",
      "metadata": {
        "id": "EKPMfyzdHtHB"
      },
      "source": [
        "#Identifique o tipo de cada coluna (inteiro, float, object)."
      ],
      "execution_count": null,
      "outputs": []
    },
    {
      "cell_type": "code",
      "metadata": {
        "colab": {
          "base_uri": "https://localhost:8080/"
        },
        "id": "z-v_k3hKHuS4",
        "outputId": "d1b94956-a04c-4de8-e39c-d9bba1880868"
      },
      "source": [
        "df.dtypes"
      ],
      "execution_count": null,
      "outputs": [
        {
          "output_type": "execute_result",
          "data": {
            "text/plain": [
              "Open         float64\n",
              "High         float64\n",
              "Low          float64\n",
              "Close        float64\n",
              "Adj Close    float64\n",
              "Volume         int64\n",
              "dtype: object"
            ]
          },
          "metadata": {},
          "execution_count": 16
        }
      ]
    },
    {
      "cell_type": "code",
      "metadata": {
        "colab": {
          "base_uri": "https://localhost:8080/"
        },
        "id": "hZOj1EiSI_r2",
        "outputId": "88943185-28d5-401c-eda5-9569101afd5c"
      },
      "source": [
        "#Quais são os valores da ação para o dia 04 de outubro de 2018?\n",
        "df.loc[\"2018-10-04\"]"
      ],
      "execution_count": null,
      "outputs": [
        {
          "output_type": "execute_result",
          "data": {
            "text/plain": [
              "Open         3.368000e+01\n",
              "High         3.588000e+01\n",
              "Low          3.352000e+01\n",
              "Close        3.512000e+01\n",
              "Adj Close    3.293799e+01\n",
              "Volume       2.792000e+07\n",
              "Name: 2018-10-04, dtype: float64"
            ]
          },
          "metadata": {},
          "execution_count": 18
        }
      ]
    },
    {
      "cell_type": "code",
      "metadata": {
        "colab": {
          "base_uri": "https://localhost:8080/"
        },
        "id": "MTnurwkLJMl9",
        "outputId": "6258cd4f-6844-4c75-e6ec-cb54445724c3"
      },
      "source": [
        "#Qual a média do Volume financeiro movimentado em todo o período?\n",
        "df.Volume.mean()"
      ],
      "execution_count": null,
      "outputs": [
        {
          "output_type": "execute_result",
          "data": {
            "text/plain": [
              "11928526.016260162"
            ]
          },
          "metadata": {},
          "execution_count": 20
        }
      ]
    }
  ]
}