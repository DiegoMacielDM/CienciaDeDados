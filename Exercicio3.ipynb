{
  "nbformat": 4,
  "nbformat_minor": 0,
  "metadata": {
    "colab": {
      "name": "Exercicio3.ipynb",
      "provenance": [],
      "authorship_tag": "ABX9TyMDy/H6pMfuuQiQnsTPGl8G",
      "include_colab_link": true
    },
    "kernelspec": {
      "name": "python3",
      "display_name": "Python 3"
    },
    "language_info": {
      "name": "python"
    }
  },
  "cells": [
    {
      "cell_type": "markdown",
      "metadata": {
        "id": "view-in-github",
        "colab_type": "text"
      },
      "source": [
        "<a href=\"https://colab.research.google.com/github/DiegoMacielDM/CienciaDeDados/blob/main/Exercicio3.ipynb\" target=\"_parent\"><img src=\"https://colab.research.google.com/assets/colab-badge.svg\" alt=\"Open In Colab\"/></a>"
      ]
    },
    {
      "cell_type": "code",
      "metadata": {
        "id": "nlI0t-F0Jc0C"
      },
      "source": [
        "# importando a biblioteca pandas do Python\n",
        "import pandas as pd\n",
        "\n",
        "# importando os dados\n",
        "df = pd.read_csv(\"http://dl.dropboxusercontent.com/s/yyfeoxqw61o3iel/df_rides.csv\")"
      ],
      "execution_count": null,
      "outputs": []
    },
    {
      "cell_type": "code",
      "metadata": {
        "colab": {
          "base_uri": "https://localhost:8080/"
        },
        "id": "nWn8ebTmJzic",
        "outputId": "4a5939b4-3cd4-4b09-abac-2da019520a15"
      },
      "source": [
        "#Ver qual o tamanho (linhas x colunas) do DataFrame\n",
        "df.shape"
      ],
      "execution_count": null,
      "outputs": [
        {
          "output_type": "execute_result",
          "data": {
            "text/plain": [
              "(287322, 10)"
            ]
          },
          "metadata": {},
          "execution_count": 5
        }
      ]
    },
    {
      "cell_type": "code",
      "metadata": {
        "colab": {
          "base_uri": "https://localhost:8080/"
        },
        "id": "sN3F2_kDJjgc",
        "outputId": "ef03ba30-abdc-434e-a5a2-7aeee5256620"
      },
      "source": [
        "#Qual a porcentagem de valores ausentes para a coluna user_gender?\n",
        "df.user_gender.isnull().sum() / df.shape[0]"
      ],
      "execution_count": null,
      "outputs": [
        {
          "output_type": "execute_result",
          "data": {
            "text/plain": [
              "0.0013782446175371187"
            ]
          },
          "metadata": {},
          "execution_count": 4
        }
      ]
    },
    {
      "cell_type": "code",
      "metadata": {
        "colab": {
          "base_uri": "https://localhost:8080/"
        },
        "id": "EAU97QqBJ2dU",
        "outputId": "b282cc2a-8ed3-4434-9b7d-e0b25fae0447"
      },
      "source": [
        "# Preenchendo a coluna user_gender com o valor mais frequente.\n",
        "print(df.user_gender.value_counts())\n"
      ],
      "execution_count": null,
      "outputs": [
        {
          "output_type": "stream",
          "name": "stdout",
          "text": [
            "M    212608\n",
            "F     74318\n",
            "Name: user_gender, dtype: int64\n"
          ]
        }
      ]
    },
    {
      "cell_type": "code",
      "metadata": {
        "id": "0RVlDPZ1Jw1b"
      },
      "source": [
        "# Preenchendo os valores ausentes de user_gender com 'M'\n",
        "df.user_gender.fillna('M', inplace=True)"
      ],
      "execution_count": null,
      "outputs": []
    },
    {
      "cell_type": "code",
      "metadata": {
        "colab": {
          "base_uri": "https://localhost:8080/",
          "height": 283
        },
        "id": "a_KQYuCKKEOT",
        "outputId": "b52f9a54-23cc-4f5b-8869-01c7b7519f16"
      },
      "source": [
        "#Plote u boxplot para a coluna ride_duration.\n",
        "\n",
        "df.ride_duration.plot(kind=\"box\")"
      ],
      "execution_count": null,
      "outputs": [
        {
          "output_type": "execute_result",
          "data": {
            "text/plain": [
              "<matplotlib.axes._subplots.AxesSubplot at 0x7f883a0baed0>"
            ]
          },
          "metadata": {},
          "execution_count": 8
        },
        {
          "output_type": "display_data",
          "data": {
            "image/png": "[encoded data removed]",
            "text/plain": [
              "<Figure size 432x288 with 1 Axes>"
            ]
          },
          "metadata": {
            "needs_background": "light"
          }
        }
      ]
    }
  ]
}